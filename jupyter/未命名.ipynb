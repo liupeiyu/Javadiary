{
 "cells": [
  {
   "cell_type": "code",
   "execution_count": 1,
   "id": "47cfbbb6",
   "metadata": {},
   "outputs": [],
   "source": [
    "strings=\"abcdefghijklmnopqrstuvwxyzABCDEFGHIJKLMNOPQRSTUVWXYZ1234567890\""
   ]
  },
  {
   "cell_type": "code",
   "execution_count": 2,
   "id": "e971a8a1",
   "metadata": {},
   "outputs": [],
   "source": [
    "s = \"\".join([\"a\", \"b\", \"c\"])"
   ]
  },
  {
   "cell_type": "code",
   "execution_count": 3,
   "id": "130552ec",
   "metadata": {},
   "outputs": [
    {
     "name": "stdout",
     "output_type": "stream",
     "text": [
      "abc\n"
     ]
    }
   ],
   "source": [
    "print(s)"
   ]
  },
  {
   "cell_type": "code",
   "execution_count": 4,
   "id": "18234b0c",
   "metadata": {},
   "outputs": [
    {
     "data": {
      "text/plain": [
       "False"
      ]
     },
     "execution_count": 4,
     "metadata": {},
     "output_type": "execute_result"
    }
   ],
   "source": [
    "s is 'abc'"
   ]
  },
  {
   "cell_type": "code",
   "execution_count": 5,
   "id": "418b9231",
   "metadata": {},
   "outputs": [
    {
     "ename": "NameError",
     "evalue": "name 'intern' is not defined",
     "output_type": "error",
     "traceback": [
      "\u001b[0;31m---------------------------------------------------------------------------\u001b[0m",
      "\u001b[0;31mNameError\u001b[0m                                 Traceback (most recent call last)",
      "\u001b[0;32m/var/folders/48/6x0f90g118j8jbwsnmnvr1y00000gn/T/ipykernel_45192/3230519996.py\u001b[0m in \u001b[0;36m<module>\u001b[0;34m\u001b[0m\n\u001b[0;32m----> 1\u001b[0;31m \u001b[0mintern\u001b[0m\u001b[0;34m(\u001b[0m\u001b[0ms\u001b[0m\u001b[0;34m)\u001b[0m \u001b[0;32mis\u001b[0m \u001b[0;34m\"abc\"\u001b[0m\u001b[0;34m\u001b[0m\u001b[0;34m\u001b[0m\u001b[0m\n\u001b[0m",
      "\u001b[0;31mNameError\u001b[0m: name 'intern' is not defined"
     ]
    }
   ],
   "source": [
    "intern(s) is \"abc\""
   ]
  },
  {
   "cell_type": "code",
   "execution_count": 6,
   "id": "499b4a4e",
   "metadata": {},
   "outputs": [
    {
     "data": {
      "text/plain": [
       "<map at 0x113d987b8>"
      ]
     },
     "execution_count": 6,
     "metadata": {},
     "output_type": "execute_result"
    }
   ],
   "source": [
    "map(bool, [None, 0, \"\", u\"\", list(), tuple(), dict(), set(), frozenset()])"
   ]
  },
  {
   "cell_type": "code",
   "execution_count": null,
   "id": "3492b81a",
   "metadata": {},
   "outputs": [],
   "source": []
  }
 ],
 "metadata": {
  "kernelspec": {
   "display_name": "Python 3 (ipykernel)",
   "language": "python",
   "name": "python3"
  },
  "language_info": {
   "codemirror_mode": {
    "name": "ipython",
    "version": 3
   },
   "file_extension": ".py",
   "mimetype": "text/x-python",
   "name": "python",
   "nbconvert_exporter": "python",
   "pygments_lexer": "ipython3",
   "version": "3.7.3"
  }
 },
 "nbformat": 4,
 "nbformat_minor": 5
}
